{
 "cells": [
  {
   "cell_type": "code",
   "execution_count": 1,
   "metadata": {},
   "outputs": [],
   "source": [
    "import numpy as np\n",
    "import matplotlib.pyplot as plt\n",
    "\n",
    "from FlexibleWM import *\n",
    "\n",
    "import time\n",
    "from datetime import datetime\n",
    "import ipdb\n"
   ]
  },
  {
   "cell_type": "markdown",
   "metadata": {},
   "source": [
    "### firing rate vs time"
   ]
  },
  {
   "cell_type": "code",
   "execution_count": 2,
   "metadata": {},
   "outputs": [
    {
     "name": "stdout",
     "output_type": "stream",
     "text": [
      "Simulation start time: 2024-10-11_16-30-36\n"
     ]
    },
    {
     "data": {
      "application/vnd.jupyter.widget-view+json": {
       "model_id": "a4f0a5ec7e684f388f3680ec88cb89b0",
       "version_major": 2,
       "version_minor": 0
      },
      "text/plain": [
       "Trials:   0%|          | 0/30 [00:00<?, ?it/s]"
      ]
     },
     "metadata": {},
     "output_type": "display_data"
    },
    {
     "name": "stdout",
     "output_type": "stream",
     "text": [
      "All results saved in the folder\n",
      "Total running time: 34.04 seconds\n"
     ]
    }
   ],
   "source": [
    "# Start the timer\n",
    "start_time = time.time()\n",
    "\n",
    "# Set the current time as 'name_simu' (e.g., formatted as Year-Month-Day_Hour-Minute-Second)\n",
    "time_simu = datetime.now().strftime('%Y-%m-%d_%H-%M-%S')\n",
    "print(f\"Simulation start time: {time_simu}\")\n",
    "\n",
    "# sim_name = 'trials/{time_simu}'\n",
    "sim_name = 'PlotFiringRate'\n",
    "\n",
    "folder_path = f'./FlexibleWM/{sim_name}'\n",
    "\n",
    "dictionnary={\n",
    "    'name_simu':f'FlexibleWM/{sim_name}',\n",
    "    'Number_of_trials':30,\n",
    "    'specific_load':5, # number of items to remember. The specific location is random\n",
    "    'compute_tuning_curve':True, # Reuse tuning curve\n",
    "    'same_network_to_use':True,\n",
    "    'plot_raster':False,\n",
    "    'num_cores':5,\n",
    "    # 'create_a_specific_network':True,\n",
    "\n",
    "    } # Add here any parameter you want to change from default. Defaults values are at the beginning of FlexibleWM.py\n",
    "MyModel = FlexibleWM(dictionnary)\n",
    "psth = MyModel.assess_memory_performance()\n",
    "gcPython.collect() \n",
    "\n",
    "# End the timer\n",
    "end_time = time.time()\n",
    "\n",
    "# Calculate the total running time\n",
    "total_time = end_time - start_time\n",
    "print(f\"Total running time: {total_time:.2f} seconds\")"
   ]
  },
  {
   "cell_type": "code",
   "execution_count": 3,
   "metadata": {},
   "outputs": [
    {
     "name": "stdout",
     "output_type": "stream",
     "text": [
      "Array names: ['Matrix_all_results', 'Matrix_abs_all', 'Matrix_angle_all', 'Results_ml_spikes', 'Drift_from_ml_spikes', 'Matrix_initial_input']\n",
      "\n",
      "Percent Maintained: 59.999999999999986%\n"
     ]
    }
   ],
   "source": [
    "# Load the .npz file\n",
    "npzfile = np.load(f'{folder_path}/simulation_results.npz')\n",
    "\n",
    "# List all the arrays stored in the .npz file\n",
    "print(\"Array names:\", npzfile.files)\n",
    "\n",
    "# # Access individual arrays by their names\n",
    "Matrix_all_results = npzfile['Matrix_all_results']\n",
    "Matrix_abs_all = npzfile['Matrix_abs_all']\n",
    "Matrix_angle_all = npzfile['Matrix_angle_all']\n",
    "Results_ml_spikes = npzfile['Results_ml_spikes']\n",
    "Drift_from_ml_spikes = npzfile['Drift_from_ml_spikes']\n",
    "Matrix_initial_input = npzfile['Matrix_initial_input']\n",
    "\n",
    "np.set_printoptions(precision=2, suppress=True)\n",
    "\n",
    "# array2 = npzfile['array_name2']\n",
    "# print('Matrix_all_results:\\n',Matrix_all_results)\n",
    "# print('Matrix_abs_all:\\n',Matrix_abs_all)\n",
    "# print('Matrix_angle_all:\\n',Matrix_angle_all)\n",
    "# print('Results_ml_spikes (neuron index):\\n',Results_ml_spikes)\n",
    "# print('Drift_from_ml_spikes (angle, rad):\\n',Drift_from_ml_spikes)\n",
    "# print('Matrix_initial_input:\\n',Matrix_initial_input)\n",
    "\n",
    "\n",
    "\n",
    "print()\n",
    "print(f'Percent Maintained: {np.sum(Matrix_all_results[:,0]/Matrix_all_results.shape[0])*100}%')\n",
    "\n",
    "# plt.imshow(Matrix_all_results)\n",
    "# Example: print one of the arrays\n",
    "# print(array1)\n",
    "\n",
    "# # Close the file after accessing the arrays\n",
    "npzfile.close()"
   ]
  },
  {
   "cell_type": "code",
   "execution_count": null,
   "metadata": {},
   "outputs": [],
   "source": []
  }
 ],
 "metadata": {
  "kernelspec": {
   "display_name": "brian2",
   "language": "python",
   "name": "python3"
  },
  "language_info": {
   "codemirror_mode": {
    "name": "ipython",
    "version": 3
   },
   "file_extension": ".py",
   "mimetype": "text/x-python",
   "name": "python",
   "nbconvert_exporter": "python",
   "pygments_lexer": "ipython3",
   "version": "3.9.19"
  }
 },
 "nbformat": 4,
 "nbformat_minor": 2
}
