{
 "cells": [
  {
   "cell_type": "code",
   "execution_count": 1,
   "metadata": {},
   "outputs": [],
   "source": [
    "import numpy as np\n",
    "import matplotlib.pyplot as plt\n",
    "\n",
    "from FlexibleWM import *\n",
    "\n",
    "import time\n",
    "from datetime import datetime\n",
    "import ipdb\n"
   ]
  },
  {
   "cell_type": "markdown",
   "metadata": {},
   "source": [
    "### firing rate vs time"
   ]
  },
  {
   "cell_type": "code",
   "execution_count": 2,
   "metadata": {},
   "outputs": [
    {
     "name": "stdout",
     "output_type": "stream",
     "text": [
      "Simulation start time: 2024-10-11_12-52-07\n",
      "---------- Initialisation of trial 0 ----------\n",
      "Load for this trial is 1\n",
      "Running...\n"
     ]
    },
    {
     "name": "stderr",
     "output_type": "stream",
     "text": [
      "WARNING:py.warnings:/Users/derek/anaconda3/envs/brian2/lib/python3.9/site-packages/brian2tools/plotting/data.py:59: UserWarning: marker is redundantly defined by the 'marker' keyword argument and the fmt string \".\" (-> marker='.'). The keyword argument will take precedence.\n",
      "  axes.plot(spike_times/time_unit, spike_indices, '.', **kwds)\n",
      "\n"
     ]
    },
    {
     "name": "stdout",
     "output_type": "stream",
     "text": [
      "Plot of a raster into the folder ..\n",
      "Tuning curve is saved in the folder, next time you can include 'compute_tuning_curve':False to reuse it\n",
      "\n",
      "---------- ML decoding at the end of trial 0 ----------\n",
      "Initial inputs were (nan means no initial input into this SN)\n",
      "[ nan  nan  nan  nan  nan  nan 174.  nan]\n",
      "Memory is found \n",
      "[False False False False False False  True False]\n",
      "ML decoding gives\n",
      "[ 98. 476. 277.  11. 235. 466. 152. 508.]\n",
      "Decoding from the activity vector gives\n",
      "[  8.57716833 388.60076721 188.05860248  64.88477175  19.98024985\n",
      " 471.33793933 152.16354364 153.10708229]\n",
      "\n",
      "\n",
      "---------- Computing capacity, maintained and spurious memories ----------\n",
      "1 maintained memories\n",
      "0 forgotten memories\n",
      "0 spurious memories\n",
      "\n",
      "---------- Initialisation of trial 1 ----------\n",
      "Load for this trial is 1\n",
      "Running...\n",
      "Plot of a raster into the folder ..\n",
      "Tuning curve is saved in the folder, next time you can include 'compute_tuning_curve':False to reuse it\n",
      "\n",
      "---------- ML decoding at the end of trial 1 ----------\n",
      "Initial inputs were (nan means no initial input into this SN)\n",
      "[ nan  nan  nan  nan 197.  nan  nan  nan]\n",
      "Memory is found \n",
      "[False False False False  True False False False]\n",
      "ML decoding gives\n",
      "[148. 309.   8. 109. 207. 269. 142. 178.]\n",
      "Decoding from the activity vector gives\n",
      "[256.32847061 321.58448274 504.08258889  73.61671107 213.60766995\n",
      " 256.58093042 121.90040503 188.3828392 ]\n",
      "\n",
      "\n",
      "---------- Computing capacity, maintained and spurious memories ----------\n",
      "1 maintained memories\n",
      "0 forgotten memories\n",
      "0 spurious memories\n",
      "\n",
      "---------- Initialisation of trial 2 ----------\n",
      "Load for this trial is 1\n",
      "Running...\n",
      "Plot of a raster into the folder ..\n",
      "Tuning curve is saved in the folder, next time you can include 'compute_tuning_curve':False to reuse it\n",
      "\n",
      "---------- ML decoding at the end of trial 2 ----------\n",
      "Initial inputs were (nan means no initial input into this SN)\n",
      "[ nan  nan 284.  nan  nan  nan  nan  nan]\n",
      "Memory is found \n",
      "[False False  True False False False False False]\n",
      "ML decoding gives\n",
      "[385. 130. 293.  46. 300. 467. 386. 103.]\n",
      "Decoding from the activity vector gives\n",
      "[264.84600425 288.03313668 292.07286558  22.7770803  288.65162736\n",
      " 333.40417399 374.44405103 104.89120995]\n",
      "\n",
      "\n",
      "---------- Computing capacity, maintained and spurious memories ----------\n",
      "1 maintained memories\n",
      "0 forgotten memories\n",
      "0 spurious memories\n",
      "\n",
      "All results saved in the folder\n",
      "Total running time: 7.32 seconds\n"
     ]
    }
   ],
   "source": [
    "# Start the timer\n",
    "start_time = time.time()\n",
    "\n",
    "# Set the current time as 'name_simu' (e.g., formatted as Year-Month-Day_Hour-Minute-Second)\n",
    "time_simu = datetime.now().strftime('%Y-%m-%d_%H-%M-%S')\n",
    "print(f\"Simulation start time: {time_simu}\")\n",
    "\n",
    "# sim_name = 'trials/{time_simu}'\n",
    "sim_name = 'PlotFiringRate'\n",
    "\n",
    "folder_path = f'./FlexibleWM/{sim_name}'\n",
    "\n",
    "dictionnary={\n",
    "    'name_simu':f'FlexibleWM/{sim_name}',\n",
    "    'Number_of_trials':3,\n",
    "    'specific_load':1, # number of items to remember. The specific location is random\n",
    "    'compute_tuning_curve':True, # Reuse tuning curve\n",
    "    'same_network_to_use':True,\n",
    "    # 'create_a_specific_network':True\n",
    "\n",
    "    } # Add here any parameter you want to change from default. Defaults values are at the beginning of FlexibleWM.py\n",
    "MyModel = FlexibleWM(dictionnary)\n",
    "psth = MyModel.run_a_trial()\n",
    "gcPython.collect() \n",
    "\n",
    "# End the timer\n",
    "end_time = time.time()\n",
    "\n",
    "# Calculate the total running time\n",
    "total_time = end_time - start_time\n",
    "print(f\"Total running time: {total_time:.2f} seconds\")"
   ]
  },
  {
   "cell_type": "code",
   "execution_count": null,
   "metadata": {},
   "outputs": [],
   "source": []
  },
  {
   "cell_type": "code",
   "execution_count": null,
   "metadata": {},
   "outputs": [],
   "source": []
  }
 ],
 "metadata": {
  "kernelspec": {
   "display_name": "brian2",
   "language": "python",
   "name": "python3"
  },
  "language_info": {
   "codemirror_mode": {
    "name": "ipython",
    "version": 3
   },
   "file_extension": ".py",
   "mimetype": "text/x-python",
   "name": "python",
   "nbconvert_exporter": "python",
   "pygments_lexer": "ipython3",
   "version": "3.9.19"
  }
 },
 "nbformat": 4,
 "nbformat_minor": 2
}
